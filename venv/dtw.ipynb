{
 "cells": [
  {
   "cell_type": "code",
   "execution_count": null,
   "outputs": [],
   "source": [
    "import librosa\n",
    "from dtw import dtw\n",
    "import matplotlib.pyplot as plt\n",
    "\n",
    "\n",
    "\n",
    "\n",
    "#오디오 파일을 두개 불러온다\n",
    "X_test1, y_test1 = librosa.load('test_wa1.wav') \n",
    "X_test2, y_test2 = librosa.load('test_wa2.wav') \n",
    "plt.subplot(1, 2, 1) \n",
    "\n",
    "# librosa 라이브러리를 통하여 1번노래와 2번노래의 음악특징을 추출함\n",
    "Music_mfcc_1 = librosa.feature.mfcc(X_test1,y_test1)   \n",
    "librosa.display.specshow(Music_mfcc_1)\n",
    "# MFCC의 모습을 보여줌\n",
    "\n",
    "plt.subplot(1, 2, 2)\n",
    "Music_mfcc_2 = librosa.feature.mfcc(X_test2, y_test2)\n",
    "librosa.display.specshow(Music_mfcc_2)\n",
    "# MFCC의 모습을 보여줌\n",
    "\n",
    "# dtw알고리즘을 이용하여 두 노래의 특징을 비교함\n",
    "dist, cost, path = dtw(Music_mfcc_1.T, Music_mfcc_2.T)\n",
    "\n",
    "print(\"두 노래의 유사성은 : \",dist)   \n",
    "plt.imshow(cost.T, origin='lower', cmap=plt.get_cmap('black'), interpolation='nearest')\n",
    "plt.plot(path[0], path[1], 'w')   \n",
    "\n",
    "\n",
    "plt.show()  #To display the plots graphically"
   ],
   "metadata": {
    "collapsed": false,
    "pycharm": {
     "name": "#%%\n"
    }
   }
  },
  {
   "cell_type": "code",
   "execution_count": null,
   "outputs": [],
   "source": [],
   "metadata": {
    "collapsed": false,
    "pycharm": {
     "name": "#%%\n"
    }
   }
  }
 ],
 "metadata": {
  "language_info": {
   "codemirror_mode": {
    "name": "ipython",
    "version": 2
   },
   "file_extension": ".py",
   "mimetype": "text/x-python",
   "name": "python",
   "nbconvert_exporter": "python",
   "pygments_lexer": "ipython2",
   "version": "2.7.6"
  },
  "kernelspec": {
   "name": "pycharm-cb1507db",
   "language": "python",
   "display_name": "PyCharm (untitled2)"
  },
  "pycharm": {
   "stem_cell": {
    "cell_type": "raw",
    "source": [],
    "metadata": {
     "collapsed": false
    }
   }
  }
 },
 "nbformat": 4,
 "nbformat_minor": 0
}